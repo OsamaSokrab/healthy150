{
 "cells": [
  {
   "cell_type": "markdown",
   "metadata": {},
   "source": [
    "# Sleep"
   ]
  },
  {
   "cell_type": "markdown",
   "metadata": {},
   "source": [
    "## Before Sleep Book 1:"
   ]
  },
  {
   "cell_type": "markdown",
   "metadata": {},
   "source": [
    "### Printing a value of a key"
   ]
  },
  {
   "cell_type": "code",
   "execution_count": 7,
   "metadata": {},
   "outputs": [
    {
     "name": "stdout",
     "output_type": "stream",
     "text": [
      "The Power of Relaxation\n",
      "The Power of Relaxation\n"
     ]
    }
   ],
   "source": [
    "from before_sleep_books import before_sleep_book_1\n",
    "print(before_sleep_book_1['Title'])\n",
    "print(before_sleep_book_1.get('Title'))"
   ]
  },
  {
   "cell_type": "markdown",
   "metadata": {},
   "source": [
    "### Dictionary length"
   ]
  },
  {
   "cell_type": "code",
   "execution_count": 5,
   "metadata": {},
   "outputs": [
    {
     "name": "stdout",
     "output_type": "stream",
     "text": [
      "7\n"
     ]
    }
   ],
   "source": [
    "print(len(before_sleep_book_1))"
   ]
  },
  {
   "cell_type": "markdown",
   "metadata": {},
   "source": [
    "### Type of dictionary"
   ]
  },
  {
   "cell_type": "code",
   "execution_count": 6,
   "metadata": {},
   "outputs": [
    {
     "name": "stdout",
     "output_type": "stream",
     "text": [
      "<class 'dict'>\n"
     ]
    }
   ],
   "source": [
    "print(type(before_sleep_book_1))"
   ]
  },
  {
   "cell_type": "markdown",
   "metadata": {},
   "source": [
    "### Keys of a dictionary"
   ]
  },
  {
   "cell_type": "code",
   "execution_count": 9,
   "metadata": {},
   "outputs": [
    {
     "name": "stdout",
     "output_type": "stream",
     "text": [
      "Title\n",
      "Author\n",
      "date started\n",
      "type A Personality\n",
      "Brain waves\n",
      "levels of stress\n",
      "types of relaxtion\n"
     ]
    }
   ],
   "source": [
    "for key in before_sleep_book_1.keys():\n",
    "    print(key)"
   ]
  },
  {
   "cell_type": "markdown",
   "metadata": {},
   "source": [
    "### Values of a dictionary"
   ]
  },
  {
   "cell_type": "code",
   "execution_count": 12,
   "metadata": {},
   "outputs": [
    {
     "name": "stdout",
     "output_type": "stream",
     "text": [
      "The Power of Relaxation\n",
      "Tanushree Podder\n",
      "6 January 2024\n",
      "prone to stress effects, they are obssesed with time\n",
      "{'beta': 'The most active during stress', 'alpha': 'the relaxed person associated with creativity', 'theta': 'deep relaxation like meditation', 'delta': 'associated with deep sleep'}\n",
      "['attitude', 'behaviour', ' ']\n",
      "['mind', 'physical', 'spiritual']\n"
     ]
    }
   ],
   "source": [
    "for value in before_sleep_book_1.values():\n",
    "    print(value)"
   ]
  },
  {
   "cell_type": "markdown",
   "metadata": {},
   "source": [
    "### slicing a dictionary after converting it to a list"
   ]
  },
  {
   "cell_type": "code",
   "execution_count": 21,
   "metadata": {},
   "outputs": [
    {
     "name": "stdout",
     "output_type": "stream",
     "text": [
      "Title : The Power of Relaxation\n",
      "Author : Tanushree Podder\n",
      "date started : 6 January 2024\n",
      "type A Personality : prone to stress effects, they are obssesed with time\n",
      "Brain waves:\n",
      "\t beta : The most active during stress\n",
      "\t alpha : the relaxed person associated with creativity\n",
      "\t theta : deep relaxation like meditation\n",
      "\t delta : associated with deep sleep\n",
      "Levels of Stress:\n",
      "\t attitude\n",
      "\t behaviour\n",
      "\t life style\n",
      "Types of relaxation:\n",
      "\t mind\n",
      "\t physical\n",
      "\t spiritual\n"
     ]
    }
   ],
   "source": [
    "from before_sleep_books import before_sleep_book_1\n",
    "# convert dict to list\n",
    "books_list = list(before_sleep_book_1.items())\n",
    "#slicing form books list\n",
    "sliced_books = books_list[:4]\n",
    "#convert the list back to dict\n",
    "sliced_books_dict = dict(sliced_books)\n",
    "#print sliced books values\n",
    "for key, value in sliced_books_dict.items():\n",
    "    print(key,':', value)\n",
    "#print the key of brain waves\n",
    "print('Brain waves:')\n",
    "#get the value of brain waves\n",
    "brain_waves = before_sleep_book_1['Brain waves']\n",
    "#print the values of brain waves\n",
    "for key, value in brain_waves.items():\n",
    "    print('\\t',key, ':', value)\n",
    "#get the value of stress levels\n",
    "stress_levels = before_sleep_book_1['levels of stress']\n",
    "#print stress levels\n",
    "print('Levels of Stress:')\n",
    "#print the values of stress levels\n",
    "for item in stress_levels:\n",
    "    print('\\t',item)\n",
    "#get the value of types of relaxtion\n",
    "relaxation_types = before_sleep_book_1['types of relaxtion']\n",
    "# print types of relaxation\n",
    "print('Types of relaxation:')\n",
    "#print the values oftypes of relaxtion\n",
    "for item in relaxation_types:\n",
    "    print('\\t',item)\n"
   ]
  },
  {
   "cell_type": "markdown",
   "metadata": {},
   "source": [
    "### Items of a dictionary"
   ]
  },
  {
   "cell_type": "code",
   "execution_count": 3,
   "metadata": {},
   "outputs": [
    {
     "name": "stdout",
     "output_type": "stream",
     "text": [
      "dict_items([('Title', 'The Power of Relaxation'), ('Author', 'Tanushree Podder'), ('date started', '6 January 2024'), ('type A Personality', 'prone to stress effects, they are obssesed with time'), ('Brain waves', {'beta': 'The most active during stress', 'alpha': 'the relaxed person associated with creativity', 'theta': 'deep relaxation like meditation', 'delta': 'associated with deep sleep'}), ('levels of stress', ['attitude', 'behaviour', 'life style']), ('types of relaxtion', ['mind', 'physical', 'spiritual'])])\n"
     ]
    }
   ],
   "source": [
    "from before_sleep_books import before_sleep_book_1\n",
    "print(before_sleep_book_1.items())"
   ]
  },
  {
   "cell_type": "markdown",
   "metadata": {},
   "source": [
    "### Check if key exists in a dictionary"
   ]
  },
  {
   "cell_type": "code",
   "execution_count": 4,
   "metadata": {},
   "outputs": [
    {
     "data": {
      "text/plain": [
       "True"
      ]
     },
     "execution_count": 4,
     "metadata": {},
     "output_type": "execute_result"
    }
   ],
   "source": [
    "'Title' in before_sleep_book_1"
   ]
  },
  {
   "cell_type": "markdown",
   "metadata": {},
   "source": [
    "### update the dictionary"
   ]
  },
  {
   "cell_type": "code",
   "execution_count": 6,
   "metadata": {},
   "outputs": [
    {
     "name": "stdout",
     "output_type": "stream",
     "text": [
      "{'Title': 'The Power of Relaxation', 'Author': 'Tanushree Podder', 'date started': '6 January 2024', 'type A Personality': 'prone to stress effects, they are obssesed with time', 'Brain waves': {'beta': 'The most active during stress', 'alpha': 'the relaxed person associated with creativity', 'theta': 'deep relaxation like meditation', 'delta': 'associated with deep sleep'}, 'levels of stress': ['attitude', 'behaviour', 'life style'], 'types of relaxtion': ['mind', 'physical', 'spiritual'], 'pages': 200}\n"
     ]
    }
   ],
   "source": [
    "before_sleep_book_1.update({'pages': 200})\n",
    "print(before_sleep_book_1)"
   ]
  },
  {
   "cell_type": "markdown",
   "metadata": {},
   "source": [
    "### Change a dictionary value"
   ]
  },
  {
   "cell_type": "code",
   "execution_count": 8,
   "metadata": {},
   "outputs": [
    {
     "name": "stdout",
     "output_type": "stream",
     "text": [
      "{'Title': 'The Power of Relaxation', 'Author': 'Tanushree Podder', 'date started': '6 January 2024', 'type A Personality': 'prone to stress effects, they are obssesed with time', 'Brain waves': {'beta': 'The most active during stress', 'alpha': 'the relaxed person associated with creativity', 'theta': 'deep relaxation like meditation', 'delta': 'associated with deep sleep'}, 'levels of stress': ['attitude', 'behaviour', 'life style'], 'types of relaxtion': ['mind', 'physical', 'spiritual'], 'pages': 300}\n"
     ]
    }
   ],
   "source": [
    "before_sleep_book_1['pages']= 300\n",
    "print(before_sleep_book_1)"
   ]
  },
  {
   "cell_type": "markdown",
   "metadata": {},
   "source": [
    "### Removing an item from the dictionary"
   ]
  },
  {
   "cell_type": "code",
   "execution_count": 9,
   "metadata": {},
   "outputs": [
    {
     "name": "stdout",
     "output_type": "stream",
     "text": [
      "('pages', 300)\n",
      "{'Title': 'The Power of Relaxation', 'Author': 'Tanushree Podder', 'date started': '6 January 2024', 'type A Personality': 'prone to stress effects, they are obssesed with time', 'Brain waves': {'beta': 'The most active during stress', 'alpha': 'the relaxed person associated with creativity', 'theta': 'deep relaxation like meditation', 'delta': 'associated with deep sleep'}, 'levels of stress': ['attitude', 'behaviour', 'life style'], 'types of relaxtion': ['mind', 'physical', 'spiritual']}\n"
     ]
    }
   ],
   "source": [
    "pages =before_sleep_book_1.popitem()\n",
    "print(pages)\n",
    "print(before_sleep_book_1)"
   ]
  },
  {
   "cell_type": "code",
   "execution_count": 10,
   "metadata": {},
   "outputs": [
    {
     "name": "stdout",
     "output_type": "stream",
     "text": [
      "the relaxed person associated with creativity\n"
     ]
    }
   ],
   "source": [
    "print(before_sleep_book_1['Brain waves']['alpha'])"
   ]
  },
  {
   "cell_type": "markdown",
   "metadata": {},
   "source": [
    "### convert dictionary to json `json.dumps()`"
   ]
  },
  {
   "cell_type": "code",
   "execution_count": 4,
   "metadata": {},
   "outputs": [
    {
     "data": {
      "text/plain": [
       "'{\\n    \"Title\"=\"The Power of Relaxation\".\\n    \"Author\"=\"Tanushree Podder\".\\n    \"date started\"=\"6 January 2024\".\\n    \"type A Personality\"=\"prone to stress effects, they are obssesed with time\".\\n    \"Brain waves\"={\\n        \"beta\"=\"The most active during stress\".\\n        \"alpha\"=\"the relaxed person associated with creativity\".\\n        \"theta\"=\"deep relaxation like meditation\".\\n        \"delta\"=\"associated with deep sleep\"\\n    }.\\n    \"levels of stress\"=[\\n        \"attitude\".\\n        \"behaviour\".\\n        \"life style\"\\n    ].\\n    \"types of relaxtion\"=[\\n        \"mind\".\\n        \"physical\".\\n        \"spiritual\"\\n    ]\\n}'"
      ]
     },
     "execution_count": 4,
     "metadata": {},
     "output_type": "execute_result"
    }
   ],
   "source": [
    "from before_sleep_books import before_sleep_book_1\n",
    "import json\n",
    "\n",
    "json.dumps(before_sleep_book_1, indent=4, separators=(\".\",\"=\"))"
   ]
  },
  {
   "cell_type": "code",
   "execution_count": 5,
   "metadata": {},
   "outputs": [
    {
     "data": {
      "text/plain": [
       "('_abc',\n",
       " '_ast',\n",
       " '_bisect',\n",
       " '_blake2',\n",
       " '_codecs',\n",
       " '_codecs_cn',\n",
       " '_codecs_hk',\n",
       " '_codecs_iso2022',\n",
       " '_codecs_jp',\n",
       " '_codecs_kr',\n",
       " '_codecs_tw',\n",
       " '_collections',\n",
       " '_contextvars',\n",
       " '_csv',\n",
       " '_datetime',\n",
       " '_functools',\n",
       " '_heapq',\n",
       " '_imp',\n",
       " '_io',\n",
       " '_json',\n",
       " '_locale',\n",
       " '_lsprof',\n",
       " '_md5',\n",
       " '_multibytecodec',\n",
       " '_opcode',\n",
       " '_operator',\n",
       " '_pickle',\n",
       " '_random',\n",
       " '_sha1',\n",
       " '_sha256',\n",
       " '_sha3',\n",
       " '_sha512',\n",
       " '_signal',\n",
       " '_sre',\n",
       " '_stat',\n",
       " '_statistics',\n",
       " '_string',\n",
       " '_struct',\n",
       " '_symtable',\n",
       " '_thread',\n",
       " '_tracemalloc',\n",
       " '_warnings',\n",
       " '_weakref',\n",
       " '_winapi',\n",
       " '_xxsubinterpreters',\n",
       " 'array',\n",
       " 'atexit',\n",
       " 'audioop',\n",
       " 'binascii',\n",
       " 'builtins',\n",
       " 'cmath',\n",
       " 'errno',\n",
       " 'faulthandler',\n",
       " 'gc',\n",
       " 'itertools',\n",
       " 'marshal',\n",
       " 'math',\n",
       " 'mmap',\n",
       " 'msvcrt',\n",
       " 'nt',\n",
       " 'parser',\n",
       " 'sys',\n",
       " 'time',\n",
       " 'winreg',\n",
       " 'xxsubtype',\n",
       " 'zlib')"
      ]
     },
     "execution_count": 5,
     "metadata": {},
     "output_type": "execute_result"
    }
   ],
   "source": [
    "import sys\n",
    "\n",
    "sys.builtin_module_names"
   ]
  },
  {
   "cell_type": "code",
   "execution_count": null,
   "metadata": {},
   "outputs": [],
   "source": []
  }
 ],
 "metadata": {
  "kernelspec": {
   "display_name": "abrehot_python",
   "language": "python",
   "name": "python3"
  },
  "language_info": {
   "codemirror_mode": {
    "name": "ipython",
    "version": 3
   },
   "file_extension": ".py",
   "mimetype": "text/x-python",
   "name": "python",
   "nbconvert_exporter": "python",
   "pygments_lexer": "ipython3",
   "version": "3.8.18"
  }
 },
 "nbformat": 4,
 "nbformat_minor": 2
}
