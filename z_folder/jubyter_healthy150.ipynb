{
    "cells": [
        {
            "cell_type": "markdown",
            "metadata": {},
            "source": [
                "# Patients Data"
            ]
        },
        {
            "cell_type": "markdown",
            "metadata": {},
            "source": [
                "## Helper functions"
            ]
        },
        {
            "cell_type": "code",
            "execution_count": null,
            "metadata": {},
            "outputs": [],
            "source": [
                "from person.Person import Person\n",
                "from pprint import pprint\n",
                "from person.person_data_retrieval import total_number_patients, patients_without_cards, print_patients_names\n",
                "from dictionary_healthy150 import personData, total_number_item, mean_of_item, mean_of_subitem_related, list_item_related"
            ]
        },
        {
            "cell_type": "markdown",
            "metadata": {},
            "source": [
                "### Creating person class"
            ]
        },
        {
            "cell_type": "code",
            "execution_count": null,
            "metadata": {},
            "outputs": [
                {
                    "name": "stdout",
                    "output_type": "stream",
                    "text": [
                        "step1\n",
                        "step 4\n",
                        "step 4\n",
                        "step 4\n",
                        "step 4\n",
                        "step 8\n",
                        "step 4\n",
                        "step 8\n",
                        "step 9\n",
                        "data added to personData\n"
                    ]
                }
            ],
            "source": [
                "from person.Person import Person\n",
                "from visit.Visit import Visit\n",
                "            \n",
                "def add_person_visit(person_id, name, age, gender, visit_id, professional_id, provider_id, year, month, day, mri_requested=False, plan_made=True,  pain=True, painSite='knee' , painRightOrLeft='',painDuration='', painRadiation='', painAssociation='', painAtNight=False, painOtherKnee=False, painHand=False, painFoot=False,trauma=False, traumaHow='', traumaWhen='', swelling=False, givingway=False, locking=False, hotness=False, crepitus=False, numbness=False, weakness=False, dislocation=False, dislocation_site='', unable_to_walk=False, diabetes=False, diabetes_duration='', diabetes_treatment='', high_cholesterol=False, hypertension=False, hypothyroidism=False, hypothyroidism_treatment='', hyperthyroidism=False, hyperthyroidism_treatment='', gastric_upset=False, previous_surgery=False, previous_surgery_type='', previous_surgery_when='', obesity=False, benign_ligament_hypermobility=False, alignment='normal', wasting='', tenderness='medial joint line', loose_bodies=False, range_of_motion='normal', valgus_stress=False, varus_stress=False, lachman=False, anterior_drawer=False, posterior_drawer=False,  mcmurry=False, appley=False, patellar_tracking='normal', straight_leg_raising=False, femoral_stretch=False, power='', sensation='', reflexes='', gait='normal', squatting='painful', medial_meniscus_tear=False, lateral_meniscus_tear=False, meniscus_tear_type='', acl_tear=False, mcl_tear=False, pcl_tear=False, ocd=False, ocd_site='', discoid_meniscus=False, discoid_meniscus_side='', other='', osteochondritis_dissicans=False, osteochondritis_dissicans_site='', hoffa_fat_pad_mass=False, nodular_synovitis=False, xray_pelvis=False, xray_spine= False, xray_pelvis_finding='', xray_spine_findings='', osteoarthritis=False, cbc='', esr='', crp='', uric_acid='', rheumatoid_factor='', culture='', meniscus_repair=False, acl_reconstruction=False, pcl_reconstruction=False, mcl_reconstruction=False, posterolateral_corner_reconstruction=False, mpfl_reconstruction=False, microfracture=False, arthroscopic_partial_meniscectomy=False, achilles_tendon_repair=False, distal_femoral_osteotomy=False, shoulder_arthroscopy=False, tkr=False, saucerization=False, meniscus_transplant=False, surgery_done=False, surgery_year=0, surgery_month=0, surgery_day=0, ankle_syndesmosis_fixation=False, drugName='', dose='', duration='', drugName1='', dose1='', duration1='', drugName2='', dose2='', duration2='', appointment_year=0, appointment_month=0, appointment_day=0, physiotherapy_site='', muscle_strengthening_exercises=False, range_of_motion_exercises=False, dressing=False, remove_stitches=False, remove_lock=False, remove_brace=True, remove_walker=True, prp=False, reassurance=False, referTo='', knee_support=False, extension=0, flexion=110):\n",
                "    person = Person(person_id, name, age, gender)\n",
                "    person_visit = Visit(visit_id, person_id, professional_id, provider_id, year, month, day)\n",
                "    person.add_personal_data()\n",
                "    person_visit.createNewVisit(mri_requested=mri_requested, plan_made=plan_made,  pain=pain, painSite=painSite , painRightOrLeft=painRightOrLeft,painDuration=painDuration, painRadiation=painRadiation, painAssociation=painAssociation, painAtNight=painAtNight, painOtherKnee=painOtherKnee, painHand=painHand, painFoot=painFoot,trauma=trauma, traumaHow=traumaHow, traumaWhen=traumaWhen, swelling=swelling, givingway=givingway, locking=locking, hotness=hotness, crepitus=crepitus, numbness=numbness, weakness=weakness, dislocation=dislocation, dislocation_site= dislocation_site, unable_to_walk=unable_to_walk, diabetes=diabetes, diabetes_duration=diabetes_duration, diabetes_treatment=diabetes_treatment, high_cholesterol=high_cholesterol, hypertension=hypertension, hypothyroidism=hypothyroidism, hypothyroidism_treatment=hypothyroidism_treatment, hyperthyroidism=hyperthyroidism, hyperthyroidism_treatment=hyperthyroidism_treatment, gastric_upset=gastric_upset, previous_surgery=previous_surgery, previous_surgery_type=previous_surgery_type, previous_surgery_when=previous_surgery_when, obesity=obesity, benign_ligament_hypermobility=benign_ligament_hypermobility, alignment=alignment, wasting=wasting, tenderness=tenderness, loose_bodies=loose_bodies, range_of_motion=range_of_motion, valgus_stress=valgus_stress, varus_stress=varus_stress, lachman=lachman, anterior_drawer=anterior_drawer, posterior_drawer=posterior_drawer,  mcmurry=mcmurry, appley=appley, patellar_tracking=patellar_tracking, straight_leg_raising=straight_leg_raising, femoral_stretch=femoral_stretch, power=power, sensation=sensation, reflexes=reflexes, gait=gait, squatting=squatting, medial_meniscus_tear=medial_meniscus_tear, lateral_meniscus_tear=lateral_meniscus_tear, meniscus_tear_type=meniscus_tear_type, acl_tear=acl_tear, mcl_tear=mcl_tear, pcl_tear=pcl_tear, ocd=ocd, ocd_site=ocd_site, discoid_meniscus=discoid_meniscus, discoid_meniscus_side=discoid_meniscus_side, other=other, osteochondritis_dissicans=osteochondritis_dissicans, osteochondritis_dissicans_site=osteochondritis_dissicans_site, hoffa_fat_pad_mass=hoffa_fat_pad_mass, nodular_synovitis=nodular_synovitis, xray_pelvis=xray_pelvis, xray_spine= xray_spine, xray_pelvis_finding=xray_pelvis_finding, xray_spine_findings=xray_spine_findings, osteoarthritis=osteoarthritis, cbc=cbc, esr=esr, crp=crp, uric_acid=uric_acid, rheumatoid_factor=rheumatoid_factor, culture=culture, meniscus_repair=meniscus_repair, acl_reconstruction=acl_reconstruction, pcl_reconstruction=pcl_reconstruction, mcl_reconstruction=mcl_reconstruction, posterolateral_corner_reconstruction=posterolateral_corner_reconstruction, mpfl_reconstruction=mpfl_reconstruction, microfracture=microfracture, arthroscopic_partial_meniscectomy=arthroscopic_partial_meniscectomy, achilles_tendon_repair=achilles_tendon_repair, distal_femoral_osteotomy=distal_femoral_osteotomy, shoulder_arthroscopy=shoulder_arthroscopy, tkr=tkr, saucerization=saucerization, meniscus_transplant=meniscus_transplant, surgery_done=surgery_done, surgery_year=surgery_year, surgery_month=surgery_month, surgery_day=surgery_day, ankle_syndesmosis_fixation=ankle_syndesmosis_fixation, drugName=drugName, dose=dose, duration=duration, drugName1=drugName1, dose1=dose1, duration1=duration1, drugName2=drugName2, dose2=dose2, duration2=duration2, appointment_year=appointment_year, appointment_month=appointment_month, appointment_day=appointment_day, physiotherapy_site=physiotherapy_site, muscle_strengthening_exercises=muscle_strengthening_exercises, range_of_motion_exercises=range_of_motion_exercises, dressing=dressing, remove_stitches=remove_stitches, remove_lock=remove_lock, remove_brace=remove_brace, remove_walker=remove_walker, prp=prp, reassurance=reassurance, referTo=referTo, knee_support=knee_support, extension=extension, flexion=flexion)\n"
            ]
        },
        {
            "cell_type": "markdown",
            "metadata": {},
            "source": [
                "## Total number of patients"
            ]
        },
        {
            "cell_type": "code",
            "execution_count": 3,
            "metadata": {},
            "outputs": [
                {
                    "name": "stdout",
                    "output_type": "stream",
                    "text": [
                        "The total number of patients is: 93\n"
                    ]
                }
            ],
            "source": [
                "print(f\"The total number of patients is: {total_number_patients()}\")"
            ]
        },
        {
            "cell_type": "markdown",
            "metadata": {},
            "source": [
                "## Print names of the patients who have no card number"
            ]
        },
        {
            "cell_type": "code",
            "execution_count": 4,
            "metadata": {},
            "outputs": [
                {
                    "name": "stdout",
                    "output_type": "stream",
                    "text": [
                        "The patients who have no card numbers are 25 and their names are\n",
                        "Osama\n",
                        "Abdulfeta abubekr abdulfeta\n",
                        "Alteshy Tigneh\n",
                        "Asnakech Girma Yami\n",
                        "Aster Stephanos Wendafro\n",
                        "Bezawit Degarege Nisiue\n",
                        "Bitanya Yohanes\n",
                        "Derie Rofosa Gordew\n",
                        "Eden Tamiru\n",
                        "Eid Abdalgani Ibrahim\n",
                        "Eline MeKonnen Mhere\n",
                        "Genet Mengesha Ameda Mother of Lyia\n",
                        "Getachew Mulugeta Gelan\n",
                        "Gifti Yisehak Dawid\n",
                        "Haftom Tsehye\n",
                        "Hailu Bekele Tadesse\n",
                        "Melese Abate\n",
                        "Meseret Tegne Reta\n",
                        "Nibret Anteneh Abebe\n",
                        "Salamwit Ares Limeneh\n",
                        "Teshome Forsido\n",
                        "Tigist Almayhu Abnte\n",
                        "Tsegaye Seme Adema\n",
                        "Zegene Asged\n",
                        "ali\n"
                    ]
                }
            ],
            "source": [
                "patients_without_cards()"
            ]
        },
        {
            "cell_type": "markdown",
            "metadata": {},
            "source": [
                "## patient summary"
            ]
        },
        {
            "cell_type": "code",
            "execution_count": 5,
            "metadata": {},
            "outputs": [
                {
                    "name": "stdout",
                    "output_type": "stream",
                    "text": [
                        "name: Mesele Alemayu Meshasha \n",
                        "age: 60 \n",
                        "gender: male \n",
                        "\n",
                        "Visits: \n",
                        "visit date: Tuesday 19/December/2023\n",
                        "History:\n",
                        "\tright hip and knee pain, trauma: fallen down, unable to walk, givingway\n",
                        "Systemic Enquiries:\n",
                        "\tdiabetic on insulin 35/25\n",
                        "past medical history:\n",
                        "\t prvious surgery: open prostatectomy\n",
                        "Examination:\n",
                        "\t alignment normal, tender anterior hip and medial knee, range of motion is normal\n",
                        "Imaging:\n",
                        "\tXray:\n",
                        "\txray pelvis: normal, xray spine: degenerative changes\n",
                        "Lab:\n",
                        "\t\n"
                    ]
                }
            ],
            "source": [
                "def patient_summary(card_number):\n",
                "    patient_data = personData[card_number]\n",
                "    def visit_date():\n",
                "        for key in patient_data.keys():\n",
                "            if not key == 'personal data':\n",
                "                return key\n",
                "    current_visit_date = visit_date()\n",
                "    def patient_item_dict(item):\n",
                "        if item in patient_data[current_visit_date].keys():\n",
                "            return patient_data[current_visit_date][item]\n",
                "        else:\n",
                "            return ''\n",
                "    def patient_item_list_string(item, *arg):\n",
                "        patient_item_dict2 = patient_item_dict(item)\n",
                "        patient_item_list = []\n",
                "        patient_item_test_list = []\n",
                "        if isinstance(patient_item_dict2, dict):\n",
                "            for key, value in patient_item_dict2.items():\n",
                "                if value == True and 'test' in key:\n",
                "                    patient_item_test_list.append(key)\n",
                "                elif value == True and 'test' not in key:\n",
                "                    patient_item_list.append(key)\n",
                "        else:\n",
                "            return ''\n",
                "        for item in arg:\n",
                "            if item in patient_item_list:\n",
                "                patient_item_list.remove(item)\n",
                "        def positive_test(test):\n",
                "            test_split_list = test.split('_')\n",
                "            test_split_string = ' '.join(test_split_list)\n",
                "            return f\"{test_split_string} positive\"\n",
                "        positive_test_list = list(map(positive_test, patient_item_test_list))\n",
                "        positive_test_list_string = ', '.join(positive_test_list)\n",
                "        patient_item_list_string = ', '.join(patient_item_list)\n",
                "        patient_item_list_final = positive_test_list_string + patient_item_list_string\n",
                "        if patient_item_list_final == '':\n",
                "            return ''\n",
                "        else:\n",
                "            return f\", {patient_item_list_final}\"\n",
                "    def patient_string_item_list_string(item):\n",
                "        patient_item_dict2 = patient_item_dict(item)\n",
                "        patient_item_list = []\n",
                "        if isinstance(patient_item_dict2, dict):\n",
                "            for key, value in patient_item_dict2.items():\n",
                "                if value != '':\n",
                "                    test_list = [key, value]\n",
                "                    test_value = \":\".join(test_list)\n",
                "                    patient_item_list.append(test_value)\n",
                "                else:\n",
                "                    return ''\n",
                "        else:\n",
                "            return ''\n",
                "        print(patient_item_list)\n",
                "        patient_item_list_string = ', '.join(patient_item_list)\n",
                "        if patient_item_list_string == '':\n",
                "            return ''\n",
                "        else:\n",
                "            return f\"{patient_item_list_string}\"\n",
                "    def check_item(key,item, text):\n",
                "        patient_check_item_dict = patient_item_dict(key)\n",
                "        if item in patient_check_item_dict.keys():\n",
                "            patient_chek_item = patient_check_item_dict[item]\n",
                "            if patient_chek_item == True:\n",
                "                return f\"{text}\"\n",
                "            elif patient_chek_item != True and patient_chek_item != False and patient_chek_item != '':\n",
                "                return f\"{text}{patient_chek_item}\"\n",
                "            else:\n",
                "                return ''\n",
                "        else:\n",
                "            return ''\n",
                "    def patient_subitem_dict(item, subitem):\n",
                "        if subitem in patient_data[current_visit_date][item].keys():\n",
                "            return patient_data[current_visit_date][item][subitem]\n",
                "        else:\n",
                "            return ''\n",
                "    def patient_subitem_list_string(item, subitem, *arg):\n",
                "        patient_item_dict2 = patient_subitem_dict(item, subitem)\n",
                "        patient_item_list = []\n",
                "        patient_item_test_list = []\n",
                "        if isinstance(patient_item_dict2, dict):\n",
                "            for key, value in patient_item_dict2.items():\n",
                "                if value == True and 'test' in key:\n",
                "                    patient_item_test_list.append(key)\n",
                "                elif value == True and 'test' not in key:\n",
                "                    patient_item_list.append(key)\n",
                "        else:\n",
                "            return ''\n",
                "        for item in arg:\n",
                "            if item in patient_item_list:\n",
                "                patient_item_list.remove(item)\n",
                "        def positive_test(test):\n",
                "            test_split_list = test.split('_')\n",
                "            test_split_string = ' '.join(test_split_list)\n",
                "            return f\"{test_split_string} positive\"\n",
                "        positive_test_list = list(map(positive_test, patient_item_test_list))\n",
                "        positive_test_list_string = ', '.join(positive_test_list)\n",
                "        patient_item_list_string = ', '.join(patient_item_list)\n",
                "        patient_item_list_final = positive_test_list_string + patient_item_list_string\n",
                "        if patient_item_list_final == '':\n",
                "            return ''\n",
                "        else:\n",
                "            return f\", {patient_item_list_final}\"\n",
                "    def check_subitem(key,item, subitem, text):\n",
                "        patient_check_item_dict = patient_item_dict(key)\n",
                "        if subitem in patient_check_item_dict[item].keys():\n",
                "            patient_chek_item = patient_check_item_dict[item][subitem]\n",
                "            if patient_chek_item == True:\n",
                "                return f\"{text}\"\n",
                "            elif patient_chek_item != True and patient_chek_item != False and patient_chek_item != '':\n",
                "                return f\"{text}{patient_chek_item}\"\n",
                "            else:\n",
                "                return ''\n",
                "        else:\n",
                "            return ''\n",
                "    \n",
                "    def remove_comma(element):\n",
                "        return element[2:]\n",
                "    def personal_data():\n",
                "        def patient_item(item): \n",
                "            return patient_data['personal data'][item]\n",
                "        patient_name= patient_item('name')\n",
                "        patient_age= patient_item('age')\n",
                "        patient_gender= patient_item('gender')\n",
                "        print(f'name: {patient_name} \\nage: {patient_age} \\ngender: {patient_gender} \\n\\nVisits: \\nvisit date: {current_visit_date}')\n",
                "    def complain():\n",
                "        def complain_item(item, text):\n",
                "            return check_item('complain', item, text)\n",
                "        def pain():\n",
                "            pain =complain_item('pain', ' pain')\n",
                "            pain_right_left = complain_item('painRightOrLeft', '')\n",
                "            pain_site = complain_item('painSite', ' ')\n",
                "            painDuration = complain_item('painDuration', ' for ')\n",
                "            painRadiation = complain_item('painRadiation', ' radiating to ')\n",
                "            painAssociation = complain_item('painAssociation', ' associated with')\n",
                "            painAtNight = complain_item('painAtNight', ' occurs at night')\n",
                "            return f\"{pain_right_left}{pain_site}{pain}{painDuration}{painRadiation}{painAssociation}{painAtNight}\"\n",
                "        def trauma():\n",
                "            trauma = complain_item('trauma', ', trauma')\n",
                "            traumaHow = complain_item('traumaHow', ': ')\n",
                "            traumaWhen = complain_item('traumaWhen', ' before ')\n",
                "            return f\"{trauma}{traumaHow}{traumaWhen}\"\n",
                "        def dislocation():\n",
                "            dislocation = complain_item('dislocation', ', diclocation ')\n",
                "            dislocation_site = complain_item('dislocation_site', ' of ')\n",
                "            return f\"{dislocation}{dislocation_site}\"\n",
                "        def unable_to_walk():\n",
                "            unable_to_walk = complain_item('unable_to_walk', ', unable to walk')\n",
                "            return f\"{unable_to_walk}\"\n",
                "        complain_list = patient_item_list_string('complain', 'pain', 'dislocation', 'trauma', 'unable_to_walk')\n",
                "            \n",
                "        print(f\"History:\\n\\t{pain()}{trauma()}{dislocation()}{unable_to_walk()}{complain_list}\")\n",
                "    def systemic_enquiries():\n",
                "        def systemic_enquiries_item(item, text):\n",
                "            return check_item('systemic enquiries', item, text)\n",
                "        def diabetes():\n",
                "            diabetes = systemic_enquiries_item('diabetes', 'diabetic')\n",
                "            diabetes_duration = systemic_enquiries_item('diabetes_duration', ' for ')\n",
                "            diabetes_treatment = systemic_enquiries_item('diabetes_treatment', ' on ')\n",
                "            return f\"{diabetes}{diabetes_duration}{diabetes_treatment}\"\n",
                "        def hypothyroidism():\n",
                "            hypothyroidism = systemic_enquiries_item('hypothyroidism', 'hypothyroidism')\n",
                "            hypothyroidism_treatment = systemic_enquiries_item('hypothyroidism_treatment', ' on ')\n",
                "            return f\"{hypothyroidism}{hypothyroidism_treatment}\"\n",
                "        def hyperthyroidism():\n",
                "            hyperthyroidism = systemic_enquiries_item('hyperthyroidism', 'hyperthyroidism')\n",
                "            hyperthyroidism_treatment = systemic_enquiries_item('hyperthyroidism_treatment', ' on ')\n",
                "            return f\"{hyperthyroidism}{hyperthyroidism_treatment}\"\n",
                "        systemic_enquiries_list_items = patient_item_list_string('systemic enquiries', 'diabetes', 'hypothyroidism', 'hyperthyroidism')\n",
                "        systemic_enquiries_list = f\"{diabetes()}{hypothyroidism()}{hyperthyroidism()}{systemic_enquiries_list_items}\"\n",
                "        if systemic_enquiries_list == '':\n",
                "            print(\"Systemic Enquiries: NAD\")\n",
                "        elif systemic_enquiries_list.startswith(', '):\n",
                "            print(f\"Sytemic Enquiries:\\n\\t{remove_comma(systemic_enquiries_list)}\")\n",
                "        else:\n",
                "            print(f\"Systemic Enquiries:\\n\\t{systemic_enquiries_list}\")\n",
                "    def past_medical_history():\n",
                "        def past_medical_history_item(item, text):\n",
                "            return check_item('past medical history', item, text)\n",
                "        def previous_surgery():\n",
                "            previous_surgery = past_medical_history_item('previous_surgery', 'prvious surgery: ')\n",
                "            previous_surgery_when = past_medical_history_item('previous_surgery_when', ' before ')\n",
                "            previous_surgery_type = past_medical_history_item('previous_surgery_type', '')\n",
                "            return f\"{previous_surgery}{previous_surgery_type}{previous_surgery_when}\"\n",
                "        patient_past_medical_history_list_string = f\"{previous_surgery()}\"\n",
                "        if patient_past_medical_history_list_string == '':\n",
                "            print(f\"past medical history: NAD\")\n",
                "        else:\n",
                "            print('past medical history:')\n",
                "            print(f\"\\t {patient_past_medical_history_list_string}\")\n",
                "    def examination():\n",
                "        def examination_item(item, text):\n",
                "            return check_item('on examination', item, text)\n",
                "\n",
                "        alignment = examination_item('alignment', 'alignment ')\n",
                "        wasting = examination_item('wasting', ', wasting of ')\n",
                "        tenderness = examination_item('tenderness', ', tender ')\n",
                "        loose_bodies = examination_item('loose_bodies', ', loose_bodies')\n",
                "        range_of_motion = examination_item('range_of_motion', ', range of motion is ')\n",
                "        examination_list = patient_item_list_string('on examination', 'loose_bodies', 'benign_ligament_hypermobility', 'obesity')\n",
                "        power = examination_item('power', ', power ')\n",
                "        sensation = examination_item('sensation', ', sensation ')\n",
                "        reflexes = examination_item('reflexes', ', reflexes ')\n",
                "        patellar_tracking = examination_item('patellar_tracking', ', patellar tracking ')\n",
                "        gait = examination_item('gait', ', gait: ')\n",
                "        squatting = examination_item('squatting', ', squatting ')\n",
                "        print(f\"Examination:\\n\\t {alignment}{wasting}{tenderness}{loose_bodies}{range_of_motion}{examination_list}{power}{sensation}{reflexes}{patellar_tracking}{gait}{squatting}\")\n",
                "    def imaging():\n",
                "        def mri():\n",
                "            def mri_item(item, text):\n",
                "                return check_subitem('imaging', 'mri', item, text)\n",
                "            def meniscus_tear():\n",
                "                medial_meniscus_tear = mri_item('medial_meniscus_tear', ' medial meniscus tear')\n",
                "                medial_meniscus_tear_type = mri_item('medial_meniscus_tear_type', '')\n",
                "                print_medial_meniscus = f\"{medial_meniscus_tear_type}{medial_meniscus_tear}\"\n",
                "                lateral_meniscus_tear = mri_item('lateral_meniscus_tear', ' lateral meniscus tear')\n",
                "                lateral_meniscus_tear_type = mri_item('lateral_meniscus_tear_type', '')\n",
                "                print_lateral_meniscus = f\"{lateral_meniscus_tear_type}{lateral_meniscus_tear}\"\n",
                "                if print_medial_meniscus != '' and print_lateral_meniscus != '':\n",
                "                    return f\"{print_medial_meniscus}, {print_lateral_meniscus}\"\n",
                "                else:\n",
                "                    return f\"{print_medial_meniscus}{print_lateral_meniscus}\"\n",
                "            def ocd():\n",
                "                ocd = mri_item('ocd', ' ocd')\n",
                "                ocd_site = mri_item('ocd_site', '')\n",
                "                return f\"{ocd_site}{ocd}\"\n",
                "            def osteochondritis_dissicans():\n",
                "                osteochondritis_dissicans = mri_item('osteochondritis_dissicans', ' osteochondritis dissicans')\n",
                "                osteochondritis_dissicans_site = mri_item('osteochondritis_dissicans_site', '')\n",
                "                return f\"{osteochondritis_dissicans_site}{osteochondritis_dissicans}\"\n",
                "            def discoid_meniscus():\n",
                "                discoid_meniscus = mri_item('discoid_meniscus', ' discoid meniscus')\n",
                "                discoid_meniscus_side = mri_item('discoid_meniscus_side', '')\n",
                "                return f\"{discoid_meniscus_side}{discoid_meniscus}\"\n",
                "            mri_items_list = patient_subitem_list_string('imaging', 'mri','medial_meniscus_tear', 'lateral_meniscus_tear', 'ocd', 'discoid_meniscus', 'osteochondritis_dissicans')\n",
                "            if meniscus_tear() == '' and ocd() == '' and osteochondritis_dissicans() == '' and discoid_meniscus() == '' and mri_items_list == '':\n",
                "                return ''\n",
                "            elif meniscus_tear() != '' and ocd() != '':\n",
                "                return f\"\\n\\tMRI:{meniscus_tear()}, {ocd()}{osteochondritis_dissicans()}{discoid_meniscus()}{mri_items_list}\"\n",
                "            else:\n",
                "                return f\"\\n\\tMRI:{meniscus_tear()}{ocd()}{osteochondritis_dissicans()}{discoid_meniscus()}{mri_items_list}\"\n",
                "        def xray():\n",
                "            def xray_item(item, text):\n",
                "                return check_subitem('imaging', 'xray', item, text)\n",
                "            def xray_pelvis():\n",
                "                xray_pelvis = xray_item('xray_pelvis', 'xray pelvis: ')\n",
                "                xray_pelvis_finding = xray_item('xray_pelvis_finding', '')\n",
                "\n",
                "                return f\"{xray_pelvis}{xray_pelvis_finding}\"\n",
                "            def xray_spine():\n",
                "                xray_spine = xray_item('xray_spine', ', xray spine: ')\n",
                "                xray_spine_findings = xray_item('xray_spine_findings', '')\n",
                "                if xray_pelvis() == '':\n",
                "                    xray_spine_edited = remove_comma(xray_spine)\n",
                "                    return f\"{xray_spine_edited}{xray_spine_findings}\"\n",
                "                else:\n",
                "                    return f\"{xray_spine}{xray_spine_findings}\"\n",
                "            xray_item_list = patient_subitem_list_string('imaging', 'xray', 'xray_pelvis', 'xray_spine')\n",
                "            if xray_pelvis() == '' and xray_spine() == '':\n",
                "                xray_item_list_edited = remove_comma(xray_item_list)\n",
                "                return f\"\\n\\tXray: {xray_pelvis()}{xray_spine()}{xray_item_list_edited}\"\n",
                "            else:\n",
                "                return f\"\\n\\tXray:\\n\\t{xray_pelvis()}{xray_spine()}{xray_item_list}\"\n",
                "        print(f\"Imaging:{mri()}{xray()}\")\n",
                "    def lab():\n",
                "        lab_list = patient_string_item_list_string('lab')\n",
                "        # if lab_list == '':\n",
                "        #     return ''\n",
                "        # else:\n",
                "        print(f\"Lab:\\n\\t{lab_list}\")\n",
                "    personal_data()\n",
                "    complain()\n",
                "    systemic_enquiries()\n",
                "    past_medical_history()\n",
                "    examination()\n",
                "    imaging()\n",
                "    lab()\n",
                "patient_summary('99133')"
            ]
        },
        {
            "cell_type": "markdown",
            "metadata": {},
            "source": [
                "## Print the patients names"
            ]
        },
        {
            "cell_type": "code",
            "execution_count": 6,
            "metadata": {},
            "outputs": [
                {
                    "name": "stdout",
                    "output_type": "stream",
                    "text": [
                        "osama\n",
                        "Abdulaziz Sead Abbi\n",
                        "Abdulfeta abubekr abdulfeta\n",
                        "Abdulfetah Seid Elimi\n",
                        "Abdulrahman Ahmed Abdie\n",
                        "Abnet Getachew Bekele\n",
                        "Abubeker Nuru Abate\n",
                        "Abubeker Sabir Bediru\n",
                        "Abdulmalik Ahmed Suleyman\n",
                        "Aden Ahmed Filfil\n",
                        "Ahmed Kaise Osman\n",
                        "Ahmed Mohamed Hassen\n",
                        "Ali Jamal ALi\n",
                        "Alimirahi Abdela Alimirahi\n",
                        "Almaz Amare W/Michael\n",
                        "Alteshy Tigneh\n",
                        "Askale Eronche Ludego\n",
                        "Asnakech Girma Yami\n",
                        "Aster Stephanos Wendafro \n",
                        "Barkotab Addis Agrow\n",
                        "Behailu Asfaw Tafesse\n",
                        "Bezawit Degarege Nisiue\n",
                        "Bitanya Yohanes\n",
                        "Dejene Feyie Gemeda\n",
                        "Derie Rofosa Gordew\n",
                        "Eden Tamiru\n",
                        "Eid Abdalgani Ibrahim\n",
                        "Eiman Gummaa Jibreel\n",
                        "Eline MeKonnen Mhere\n",
                        "Elsabet Belayneh Hassan\n",
                        "Enobong Edeme\n",
                        "Fanke Desalgne Awasa\n",
                        "Fikade Sselassie Ayana\n",
                        "Fike sefu Admuse\n",
                        "Genet Mengesha Ameda Mother of Lyia\n",
                        "Getachew Mulugeta Gelan\n",
                        "Gifti Yisehak Dawid\n",
                        "Haftom Tsehye\n",
                        "Hailu Bekele Tadesse\n",
                        "Ismail Abdselam Ali\n",
                        "Ismail Ahmed Joma\n",
                        "Kedir Kimal Omer\n",
                        "Keriya Ahmed Omer\n",
                        "Khalid Abdelkarim Ahmed\n",
                        "Kidist Glsilessie Tekle\n",
                        "Kidus Yoseph Dechasa\n",
                        "Lakech Megu\n",
                        "Lidiya Sisay Yecheneku\n",
                        "Liya Getnent Mengistu\n",
                        "Melese Abate\n",
                        "Mengistab Addis Agrow\n",
                        "Mesele Alemayu Meshasha\n",
                        "Meseret Tegne Reta\n",
                        "Michael Nagash Ashbir\n",
                        "Misrak Mengistu Mekonnen\n",
                        "Mohamed Bile Mohamed\n",
                        "Mohamed Hussen Mohamed\n",
                        "Mohammed Ibrahim Mohamed\n",
                        "Nado Abdile Ese\n",
                        "Nasir Wegu Simketa\n",
                        "Nejib Abdinur Jama\n",
                        "Nibret Anteneh Abebe\n",
                        "Nuru Mohammed Beshire\n",
                        "Salamwit Ares Limeneh\n",
                        "Setegn Mercha Meknon\n",
                        "Tedros Fasil Kedesefn\n",
                        "Teshome Forsido\n",
                        "Tigist Almayhu Abnte\n",
                        "Tizeta Melese Mengeshe\n",
                        "Tsegaye Seme Adema\n",
                        "Yakob Mohamed Ismael\n",
                        "yoseph Mitku\n",
                        "Zegene Asged\n",
                        "Zerihun Guyassa Adissu\n",
                        "Yonatan Dereje Sebseba\n",
                        "Jamal Arab Saeban\n",
                        "Mohamed Abdi Hussen\n",
                        "Zeyneb Kibret Ibrahim\n",
                        "Nasir Ismail Mohamed\n",
                        "Hailesilase Derib Ayekew\n",
                        "123\n",
                        "Mandu Betele\n",
                        "Atiklit Zealdu Adane\n",
                        "Masenet Geremew Bajeph\n",
                        "Banchiamlak Yehuwala Ayekeda\n",
                        "Ahmed Johug MOhamed\n",
                        "Debebe Mulugeta Jume\n",
                        "Ahmed Suleman Bere\n",
                        "Aneley Andarege Meted\n",
                        "Akram Zakaria Mohammed\n",
                        "osama\n",
                        "ahmed\n",
                        "ali\n"
                    ]
                }
            ],
            "source": [
                "for value in personData.values():\n",
                "    print(value['personal data']['name'])"
            ]
        },
        {
            "cell_type": "code",
            "execution_count": 7,
            "metadata": {},
            "outputs": [
                {
                    "name": "stdout",
                    "output_type": "stream",
                    "text": [
                        "osama\n",
                        "Abdulaziz Sead Abbi\n",
                        "Abdulfeta abubekr abdulfeta\n",
                        "Abdulfetah Seid Elimi\n",
                        "Abdulrahman Ahmed Abdie\n",
                        "Abnet Getachew Bekele\n",
                        "Abubeker Nuru Abate\n",
                        "Abubeker Sabir Bediru\n",
                        "Abdulmalik Ahmed Suleyman\n",
                        "Aden Ahmed Filfil\n",
                        "Ahmed Kaise Osman\n",
                        "Ahmed Mohamed Hassen\n",
                        "Ali Jamal ALi\n",
                        "Alimirahi Abdela Alimirahi\n",
                        "Almaz Amare W/Michael\n",
                        "Alteshy Tigneh\n",
                        "Askale Eronche Ludego\n",
                        "Asnakech Girma Yami\n",
                        "Aster Stephanos Wendafro \n",
                        "Barkotab Addis Agrow\n",
                        "Behailu Asfaw Tafesse\n",
                        "Bezawit Degarege Nisiue\n",
                        "Bitanya Yohanes\n",
                        "Dejene Feyie Gemeda\n",
                        "Derie Rofosa Gordew\n",
                        "Eden Tamiru\n",
                        "Eid Abdalgani Ibrahim\n",
                        "Eiman Gummaa Jibreel\n",
                        "Eline MeKonnen Mhere\n",
                        "Elsabet Belayneh Hassan\n",
                        "Enobong Edeme\n",
                        "Fanke Desalgne Awasa\n",
                        "Fikade Sselassie Ayana\n",
                        "Fike sefu Admuse\n",
                        "Genet Mengesha Ameda Mother of Lyia\n",
                        "Getachew Mulugeta Gelan\n",
                        "Gifti Yisehak Dawid\n",
                        "Haftom Tsehye\n",
                        "Hailu Bekele Tadesse\n",
                        "Ismail Abdselam Ali\n",
                        "Ismail Ahmed Joma\n",
                        "Kedir Kimal Omer\n",
                        "Keriya Ahmed Omer\n",
                        "Khalid Abdelkarim Ahmed\n",
                        "Kidist Glsilessie Tekle\n",
                        "Kidus Yoseph Dechasa\n",
                        "Lakech Megu\n",
                        "Lidiya Sisay Yecheneku\n",
                        "Liya Getnent Mengistu\n",
                        "Melese Abate\n",
                        "Mengistab Addis Agrow\n",
                        "Mesele Alemayu Meshasha\n",
                        "Meseret Tegne Reta\n",
                        "Michael Nagash Ashbir\n",
                        "Misrak Mengistu Mekonnen\n",
                        "Mohamed Bile Mohamed\n",
                        "Mohamed Hussen Mohamed\n",
                        "Mohammed Ibrahim Mohamed\n",
                        "Nado Abdile Ese\n",
                        "Nasir Wegu Simketa\n",
                        "Nejib Abdinur Jama\n",
                        "Nibret Anteneh Abebe\n",
                        "Nuru Mohammed Beshire\n",
                        "Salamwit Ares Limeneh\n",
                        "Setegn Mercha Meknon\n",
                        "Tedros Fasil Kedesefn\n",
                        "Teshome Forsido\n",
                        "Tigist Almayhu Abnte\n",
                        "Tizeta Melese Mengeshe\n",
                        "Tsegaye Seme Adema\n",
                        "Yakob Mohamed Ismael\n",
                        "yoseph Mitku\n",
                        "Zegene Asged\n",
                        "Zerihun Guyassa Adissu\n",
                        "Yonatan Dereje Sebseba\n",
                        "Jamal Arab Saeban\n",
                        "Mohamed Abdi Hussen\n",
                        "Zeyneb Kibret Ibrahim\n",
                        "Nasir Ismail Mohamed\n",
                        "Hailesilase Derib Ayekew\n",
                        "123\n",
                        "Mandu Betele\n",
                        "Atiklit Zealdu Adane\n",
                        "Masenet Geremew Bajeph\n",
                        "Banchiamlak Yehuwala Ayekeda\n",
                        "Ahmed Johug MOhamed\n",
                        "Debebe Mulugeta Jume\n",
                        "Ahmed Suleman Bere\n",
                        "Aneley Andarege Meted\n",
                        "Akram Zakaria Mohammed\n",
                        "osama\n",
                        "ahmed\n",
                        "ali\n"
                    ]
                }
            ],
            "source": [
                "print_patients_names()"
            ]
        },
        {
            "cell_type": "markdown",
            "metadata": {},
            "source": [
                "## Total number of male patients"
            ]
        },
        {
            "cell_type": "code",
            "execution_count": 8,
            "metadata": {},
            "outputs": [
                {
                    "name": "stdout",
                    "output_type": "stream",
                    "text": [
                        "the total number of male patients is: 63%\n",
                        "the percentage of male patients is:   67.74%\n",
                        "the total number of female patients is: 30\n",
                        "the percentage of female patients is:   32.26%\n"
                    ]
                }
            ],
            "source": [
                "total_number_item('personal data', 'gender', 'male', 'female')\n",
                "\n"
            ]
        },
        {
            "cell_type": "markdown",
            "metadata": {},
            "source": [
                "## The average age of the patients"
            ]
        },
        {
            "cell_type": "code",
            "execution_count": 9,
            "metadata": {},
            "outputs": [
                {
                    "name": "stdout",
                    "output_type": "stream",
                    "text": [
                        "The average age of the patients is: 38.7\n"
                    ]
                }
            ],
            "source": [
                "print(f\"The average age of the patients is: {mean_of_item('personal data', 'age')}\")"
            ]
        },
        {
            "cell_type": "markdown",
            "metadata": {},
            "source": [
                "## The average age of males and females"
            ]
        },
        {
            "cell_type": "code",
            "execution_count": 10,
            "metadata": {},
            "outputs": [
                {
                    "name": "stdout",
                    "output_type": "stream",
                    "text": [
                        "The average age of females: 40\n",
                        "The average age of males: 38\n"
                    ]
                }
            ],
            "source": [
                "print(f\"The average age of females: {mean_of_subitem_related('personal data', 'age', 'gender', 'female')}\")\n",
                "print(f\"The average age of males: {mean_of_subitem_related('personal data', 'age', 'gender', 'male')}\")"
            ]
        },
        {
            "cell_type": "markdown",
            "metadata": {},
            "source": [
                "## list of patients on a specific date"
            ]
        },
        {
            "cell_type": "code",
            "execution_count": 11,
            "metadata": {},
            "outputs": [
                {
                    "data": {
                        "text/plain": [
                            "['Kidist Glsilessie Tekle',\n",
                            " 'Yonatan Dereje Sebseba',\n",
                            " 'Jamal Arab Saeban',\n",
                            " 'Mohamed Abdi Hussen']"
                        ]
                    },
                    "execution_count": 11,
                    "metadata": {},
                    "output_type": "execute_result"
                }
            ],
            "source": [
                "list_item_related('personal data', \"Tuesday 30/January/2024\", 'name')"
            ]
        }
    ],
    "metadata": {
        "kernelspec": {
            "display_name": "abrehot_python",
            "language": "python",
            "name": "python3"
        },
        "language_info": {
            "codemirror_mode": {
                "name": "ipython",
                "version": 3
            },
            "file_extension": ".py",
            "mimetype": "text/x-python",
            "name": "python",
            "nbconvert_exporter": "python",
            "pygments_lexer": "ipython3",
            "version": "3.10.12"
        }
    },
    "nbformat": 4,
    "nbformat_minor": 2
}
