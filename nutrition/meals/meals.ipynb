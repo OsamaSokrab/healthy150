{
 "cells": [
  {
   "cell_type": "markdown",
   "metadata": {},
   "source": [
    "# Nutrition"
   ]
  },
  {
   "cell_type": "markdown",
   "metadata": {},
   "source": [
    "## Create meal items list"
   ]
  },
  {
   "cell_type": "code",
   "execution_count": 64,
   "metadata": {},
   "outputs": [],
   "source": [
    "def create_meal(*items):\n",
    "    meal= list(items)\n",
    "    return meal"
   ]
  },
  {
   "cell_type": "markdown",
   "metadata": {},
   "source": [
    "## Add item to your meal"
   ]
  },
  {
   "cell_type": "code",
   "execution_count": 65,
   "metadata": {},
   "outputs": [],
   "source": [
    "def add_meal_item(meal,item):\n",
    "    meal.append(item)"
   ]
  },
  {
   "cell_type": "markdown",
   "metadata": {},
   "source": [
    "## Print breakfast list"
   ]
  },
  {
   "cell_type": "code",
   "execution_count": 66,
   "metadata": {},
   "outputs": [],
   "source": [
    "def print_meal(meal, date):\n",
    "    print('I ate', len(meal), 'items in my breakfast in',date ,'which are:')\n",
    "\n",
    "    for item in meal:\n",
    "        print(meal.index(item)+1, '. ' ,item.capitalize())"
   ]
  },
  {
   "cell_type": "markdown",
   "metadata": {},
   "source": [
    "## Breakfast list 6 January 2024"
   ]
  },
  {
   "cell_type": "code",
   "execution_count": 67,
   "metadata": {},
   "outputs": [
    {
     "name": "stdout",
     "output_type": "stream",
     "text": [
      "I ate 7 items in my breakfast in 6 January 2024 which are:\n",
      "1 .  Eggs\n",
      "2 .  Watermelon\n",
      "3 .  Ginger\n",
      "4 .  Grapes\n",
      "5 .  Dates\n",
      "6 .  Honey\n",
      "7 .  Yoghurt\n"
     ]
    }
   ],
   "source": [
    "breakfast_6_jan_24=create_meal('eggs','watermelon','ginger','grapes','dates','honey','yoghurt')\n",
    "print_meal(breakfast_6_jan_24, \"6 January 2024\")"
   ]
  },
  {
   "cell_type": "markdown",
   "metadata": {},
   "source": [
    "### importing meal list from meals"
   ]
  },
  {
   "cell_type": "code",
   "execution_count": 1,
   "metadata": {},
   "outputs": [
    {
     "name": "stdout",
     "output_type": "stream",
     "text": [
      "['firfir', 'eggs', 'chicken', 'tibsta', 'kinge', 'watermelon', 'dates', 'pears', 'honey', 'yoghurt']\n"
     ]
    }
   ],
   "source": [
    "from meals import jan_7_2024_meal\n",
    "\n",
    "print(jan_7_2024_meal)"
   ]
  },
  {
   "cell_type": "markdown",
   "metadata": {},
   "source": [
    "### print meal 7 jan 2024"
   ]
  },
  {
   "cell_type": "code",
   "execution_count": 1,
   "metadata": {},
   "outputs": [
    {
     "name": "stdout",
     "output_type": "stream",
     "text": [
      "I ate 9 items in my breakfast in 7 January 2024 which are:\n",
      "  1 .  Firfir\n",
      "  2 .  Eggs\n",
      "  3 .  Chicken\n",
      "  4 .  Tibsta\n",
      "  5 .  Kinge\n",
      "  6 .  Watermelon\n",
      "  7 .  Dates\n",
      "  8 .  Pears\n",
      "  9 .  Honey\n"
     ]
    }
   ],
   "source": [
    "from meals import jan_7_2024_meal\n",
    "from meals_helper import print_meal\n",
    "\n",
    "print_meal(jan_7_2024_meal, '7 January 2024')"
   ]
  },
  {
   "cell_type": "code",
   "execution_count": null,
   "metadata": {},
   "outputs": [],
   "source": []
  }
 ],
 "metadata": {
  "kernelspec": {
   "display_name": "abrehot_python",
   "language": "python",
   "name": "python3"
  },
  "language_info": {
   "codemirror_mode": {
    "name": "ipython",
    "version": 3
   },
   "file_extension": ".py",
   "mimetype": "text/x-python",
   "name": "python",
   "nbconvert_exporter": "python",
   "pygments_lexer": "ipython3",
   "version": "3.8.18"
  }
 },
 "nbformat": 4,
 "nbformat_minor": 2
}
